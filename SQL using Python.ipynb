{
 "cells": [
  {
   "cell_type": "code",
   "execution_count": 1,
   "id": "0954a6a6",
   "metadata": {},
   "outputs": [],
   "source": [
    "# import libraries\n",
    "import mysql.connector\n",
    "from mysql.connector import Error\n",
    "import pandas as pd"
   ]
  },
  {
   "cell_type": "code",
   "execution_count": 13,
   "id": "3c9a46f9",
   "metadata": {
    "scrolled": true
   },
   "outputs": [
    {
     "name": "stdout",
     "output_type": "stream",
     "text": [
      "Collecting mysql-connector-pythonNote: you may need to restart the kernel to use updated packages.\n",
      "\n",
      "  Downloading mysql_connector_python-8.0.31-cp37-cp37m-win_amd64.whl (7.9 MB)\n",
      "     ---------------------------------------- 7.9/7.9 MB 490.1 kB/s eta 0:00:00\n",
      "Requirement already satisfied: protobuf<=3.20.1,>=3.11.0 in c:\\users\\nabin adhikari\\appdata\\local\\programs\\python\\python37\\lib\\site-packages (from mysql-connector-python) (3.20.1)\n",
      "Installing collected packages: mysql-connector-python\n",
      "Successfully installed mysql-connector-python-8.0.31\n"
     ]
    },
    {
     "name": "stderr",
     "output_type": "stream",
     "text": [
      "\n",
      "[notice] A new release of pip available: 22.3 -> 22.3.1\n",
      "[notice] To update, run: python.exe -m pip install --upgrade pip\n"
     ]
    }
   ],
   "source": [
    "pip install mysql-connector-python"
   ]
  },
  {
   "cell_type": "code",
   "execution_count": 16,
   "id": "ab970fb7",
   "metadata": {},
   "outputs": [
    {
     "name": "stdout",
     "output_type": "stream",
     "text": [
      "Requirement already satisfied: pip in c:\\users\\nabin adhikari\\appdata\\local\\programs\\python\\python37\\lib\\site-packages (22.3)\n",
      "Collecting pip\n",
      "  Downloading pip-22.3.1-py3-none-any.whl (2.1 MB)\n",
      "     ---------------------------------------- 2.1/2.1 MB 68.2 kB/s eta 0:00:00\n",
      "Installing collected packages: pip\n",
      "  Attempting uninstall: pip\n",
      "    Found existing installation: pip 22.3\n",
      "    Uninstalling pip-22.3:\n",
      "      Successfully uninstalled pip-22.3\n",
      "Successfully installed pip-22.3.1\n",
      "Note: you may need to restart the kernel to use updated packages.\n"
     ]
    }
   ],
   "source": [
    "pip install --upgrade pip"
   ]
  },
  {
   "cell_type": "code",
   "execution_count": 2,
   "id": "80dc23fa",
   "metadata": {},
   "outputs": [
    {
     "name": "stdout",
     "output_type": "stream",
     "text": [
      "MySQL Database connection successful\n"
     ]
    }
   ],
   "source": [
    "def create_server_connection(host_name,user_name,user_password):\n",
    "    connection=None\n",
    "    try:\n",
    "        connection = mysql.connector.connect(\n",
    "        host = host_name,\n",
    "        user = user_name,\n",
    "        password = user_password)\n",
    "        print('MySQL Database connection successful')\n",
    "    except Error as err:\n",
    "        print(f\"Error: '{err}'\")\n",
    "    return connection\n",
    "#put our MySQL terminal password\n",
    "pw = \"SQLdatascience\"\n",
    "#Database name\n",
    "db = \"mysql_python\"\n",
    "connection = create_server_connection(\"localhost\",\"root\",pw)"
   ]
  },
  {
   "cell_type": "code",
   "execution_count": 3,
   "id": "52c56c9a",
   "metadata": {},
   "outputs": [
    {
     "name": "stdout",
     "output_type": "stream",
     "text": [
      "Error: '1007 (HY000): Can't create database 'mysql_python'; database exists'\n"
     ]
    }
   ],
   "source": [
    "#create Database mysql_python\n",
    "def create_database(connection,query):\n",
    "    cursor=connection.cursor()\n",
    "    try:\n",
    "        cursor.execute(query)\n",
    "        print(\"Database created successfully\")\n",
    "    except Error as err:\n",
    "        print(f\"Error: '{err}'\")\n",
    "create_database_query = \"Create database mysql_python\"\n",
    "create_database(connection,create_database_query)"
   ]
  },
  {
   "cell_type": "code",
   "execution_count": 4,
   "id": "eae55b8d",
   "metadata": {},
   "outputs": [],
   "source": [
    "#connect to database\n",
    "def create_db_connection(host_name,user_name,user_password,db_name):\n",
    "    connection = None\n",
    "    try:\n",
    "        connection  = mysql.connector.connect(\n",
    "        host = host_name,\n",
    "        user = user_name,\n",
    "        password = user_password,\n",
    "        database = db_name)\n",
    "        print('MySQL database connection successfully')\n",
    "    except Error as err:\n",
    "        print(f\"Error: '{err}'\")\n",
    "    return connection"
   ]
  },
  {
   "cell_type": "code",
   "execution_count": 5,
   "id": "6f00b041",
   "metadata": {},
   "outputs": [],
   "source": [
    "#Execute sql queries\n",
    "def execute_query(connection,query):\n",
    "    cursor = connection.cursor()\n",
    "    try:\n",
    "        cursor.execute(query)\n",
    "        connection.commit()\n",
    "        print('Query was successful')\n",
    "    except Error as err:\n",
    "        print(f\"Error:'{err}'\")\n",
    "        "
   ]
  },
  {
   "cell_type": "code",
   "execution_count": 6,
   "id": "b90cc02c",
   "metadata": {},
   "outputs": [
    {
     "name": "stdout",
     "output_type": "stream",
     "text": [
      "MySQL database connection successfully\n",
      "Error:'1050 (42S01): Table 'orders' already exists'\n"
     ]
    }
   ],
   "source": [
    "create_orders_table = '''\n",
    "create table orders(\n",
    "order_id int primary key,\n",
    "customer_name varchar(30) not null,\n",
    "product_name varchar(20) not null,\n",
    "date_ordered date,\n",
    "quantity int,\n",
    "unit_price float,\n",
    "phone_number varchar(20));'''\n",
    "\n",
    "# connec to the database\n",
    "connection = create_db_connection(\"localhost\",\"root\",pw,db)\n",
    "execute_query(connection,create_orders_table)"
   ]
  },
  {
   "cell_type": "code",
   "execution_count": 7,
   "id": "690ee8f8",
   "metadata": {},
   "outputs": [
    {
     "name": "stdout",
     "output_type": "stream",
     "text": [
      "MySQL database connection successfully\n",
      "Error:'1062 (23000): Duplicate entry '101' for key 'orders.PRIMARY''\n"
     ]
    }
   ],
   "source": [
    "#insert data\n",
    "data_orders = '''\n",
    "insert into orders values\n",
    "(101,'Nabin','Laptop','2018-06-12',2,800,'9841748595'),\n",
    "(102,'Jobs','Books','2019-02-10',10,12,'9841748590'),\n",
    "(103,'Stacy','Trousers','2019-12-25',5,50,'9841748591'),\n",
    "(104,'Nancy','T-shirts','2018-07-14',2,800,'9841748592'),\n",
    "(105,'Maria','Headphones','2019-05-30',6,48,'9841748593'),\n",
    "(106,'Danny','Smart TV','2018-08-20',10,300,'9841748594');'''\n",
    "\n",
    "connection = create_db_connection(\"localhost\",\"root\",pw,db)\n",
    "execute_query(connection,data_orders)"
   ]
  },
  {
   "cell_type": "code",
   "execution_count": 8,
   "id": "da33d317",
   "metadata": {},
   "outputs": [],
   "source": [
    "def read_query(connection,query):\n",
    "    cursor = connection.cursor()\n",
    "    result =None\n",
    "    try:\n",
    "        cursor.execute(query)\n",
    "        result = cursor.fetchall()\n",
    "        return result\n",
    "    except Error as err:\n",
    "        print(f\"Error: '{err}'\")"
   ]
  },
  {
   "cell_type": "code",
   "execution_count": 9,
   "id": "3ad4cb18",
   "metadata": {},
   "outputs": [
    {
     "name": "stdout",
     "output_type": "stream",
     "text": [
      "MySQL database connection successfully\n",
      "(101, 'Nabin', 'Laptop', datetime.date(2018, 6, 12), 2, 800.0, '9841748595')\n",
      "(102, 'Jobs', 'Books', datetime.date(2019, 2, 10), 10, 12.0, '9841748590')\n",
      "(103, 'Stacy', 'Trousers', datetime.date(2019, 12, 25), 5, 50.0, '9841748591')\n",
      "(104, 'Nancy', 'T-shirts', datetime.date(2018, 7, 14), 2, 800.0, '9841748592')\n",
      "(105, 'Maria', 'Headphones', datetime.date(2019, 5, 30), 6, 48.0, '9841748593')\n",
      "(106, 'Danny', 'Smart TV', datetime.date(2018, 8, 20), 10, 300.0, '9841748594')\n"
     ]
    }
   ],
   "source": [
    "#using the select statement\n",
    "q1 = '''\n",
    "select * from orders;\n",
    "'''\n",
    "connection = create_db_connection(\"localhost\",\"root\",pw,db)\n",
    "results = read_query(connection,q1)\n",
    "for result in results:\n",
    "    print(result)\n"
   ]
  },
  {
   "cell_type": "code",
   "execution_count": 10,
   "id": "4ab5ef3b",
   "metadata": {},
   "outputs": [
    {
     "name": "stdout",
     "output_type": "stream",
     "text": [
      "MySQL database connection successfully\n",
      "('Nabin', '9841748595')\n",
      "('Jobs', '9841748590')\n",
      "('Stacy', '9841748591')\n",
      "('Nancy', '9841748592')\n",
      "('Maria', '9841748593')\n",
      "('Danny', '9841748594')\n"
     ]
    }
   ],
   "source": [
    "#using the select statement\n",
    "q2 = '''\n",
    "select customer_name,phone_number from orders;\n",
    "'''\n",
    "connection = create_db_connection(\"localhost\",\"root\",pw,db)\n",
    "results = read_query(connection,q2)\n",
    "for result in results:\n",
    "    print(result)\n"
   ]
  },
  {
   "cell_type": "code",
   "execution_count": 11,
   "id": "8eb748c7",
   "metadata": {},
   "outputs": [
    {
     "name": "stdout",
     "output_type": "stream",
     "text": [
      "MySQL database connection successfully\n",
      "(2018,)\n",
      "(2019,)\n",
      "(2019,)\n",
      "(2018,)\n",
      "(2019,)\n",
      "(2018,)\n"
     ]
    }
   ],
   "source": [
    "#using the select statement\n",
    "q3 = '''\n",
    "select year(date_ordered) from orders;\n",
    "'''\n",
    "connection = create_db_connection(\"localhost\",\"root\",pw,db)\n",
    "results = read_query(connection,q3)\n",
    "for result in results:\n",
    "    print(result)\n"
   ]
  },
  {
   "cell_type": "code",
   "execution_count": 12,
   "id": "a06d6f50",
   "metadata": {},
   "outputs": [
    {
     "name": "stdout",
     "output_type": "stream",
     "text": [
      "MySQL database connection successfully\n",
      "(12,)\n",
      "(10,)\n",
      "(25,)\n",
      "(14,)\n",
      "(30,)\n",
      "(20,)\n"
     ]
    }
   ],
   "source": [
    "#using the select statement\n",
    "q3 = '''\n",
    "select day(date_ordered) from orders;\n",
    "'''\n",
    "connection = create_db_connection(\"localhost\",\"root\",pw,db)\n",
    "results = read_query(connection,q3)\n",
    "for result in results:\n",
    "    print(result)\n"
   ]
  },
  {
   "cell_type": "code",
   "execution_count": 13,
   "id": "158bcf07",
   "metadata": {},
   "outputs": [
    {
     "name": "stdout",
     "output_type": "stream",
     "text": [
      "MySQL database connection successfully\n",
      "(2018,)\n",
      "(2019,)\n"
     ]
    }
   ],
   "source": [
    "#using the select statement\n",
    "q4 = '''\n",
    "select distinct year(date_ordered) from orders;\n",
    "'''\n",
    "connection = create_db_connection(\"localhost\",\"root\",pw,db)\n",
    "results = read_query(connection,q4)\n",
    "for result in results:\n",
    "    print(result)\n"
   ]
  },
  {
   "cell_type": "code",
   "execution_count": 14,
   "id": "cc06b48b",
   "metadata": {},
   "outputs": [
    {
     "name": "stdout",
     "output_type": "stream",
     "text": [
      "MySQL database connection successfully\n",
      "(101, 'Nabin', 'Laptop', datetime.date(2018, 6, 12), 2, 800.0, '9841748595')\n",
      "(104, 'Nancy', 'T-shirts', datetime.date(2018, 7, 14), 2, 800.0, '9841748592')\n",
      "(106, 'Danny', 'Smart TV', datetime.date(2018, 8, 20), 10, 300.0, '9841748594')\n"
     ]
    }
   ],
   "source": [
    "#using the select statement\n",
    "q5 = '''\n",
    "select * from orders where date_ordered < '2018-12-31';\n",
    "'''\n",
    "connection = create_db_connection(\"localhost\",\"root\",pw,db)\n",
    "results = read_query(connection,q5)\n",
    "for result in results:\n",
    "    print(result)\n"
   ]
  },
  {
   "cell_type": "code",
   "execution_count": 15,
   "id": "300872bb",
   "metadata": {},
   "outputs": [
    {
     "name": "stdout",
     "output_type": "stream",
     "text": [
      "MySQL database connection successfully\n",
      "(101, 'Nabin', 'Laptop', datetime.date(2018, 6, 12), 2, 800.0, '9841748595')\n",
      "(104, 'Nancy', 'T-shirts', datetime.date(2018, 7, 14), 2, 800.0, '9841748592')\n",
      "(106, 'Danny', 'Smart TV', datetime.date(2018, 8, 20), 10, 300.0, '9841748594')\n",
      "(103, 'Stacy', 'Trousers', datetime.date(2019, 12, 25), 5, 50.0, '9841748591')\n",
      "(105, 'Maria', 'Headphones', datetime.date(2019, 5, 30), 6, 48.0, '9841748593')\n",
      "(102, 'Jobs', 'Books', datetime.date(2019, 2, 10), 10, 12.0, '9841748590')\n"
     ]
    }
   ],
   "source": [
    "#using the select statement\n",
    "q7 = '''\n",
    "select * from orders order by unit_price desc;\n",
    "'''\n",
    "connection = create_db_connection(\"localhost\",\"root\",pw,db)\n",
    "results = read_query(connection,q7)\n",
    "for result in results:\n",
    "    print(result)\n"
   ]
  },
  {
   "cell_type": "code",
   "execution_count": 17,
   "id": "a30da9f9",
   "metadata": {},
   "outputs": [
    {
     "data": {
      "text/html": [
       "<div>\n",
       "<style scoped>\n",
       "    .dataframe tbody tr th:only-of-type {\n",
       "        vertical-align: middle;\n",
       "    }\n",
       "\n",
       "    .dataframe tbody tr th {\n",
       "        vertical-align: top;\n",
       "    }\n",
       "\n",
       "    .dataframe thead th {\n",
       "        text-align: right;\n",
       "    }\n",
       "</style>\n",
       "<table border=\"1\" class=\"dataframe\">\n",
       "  <thead>\n",
       "    <tr style=\"text-align: right;\">\n",
       "      <th></th>\n",
       "      <th>order_id</th>\n",
       "      <th>customer_name</th>\n",
       "      <th>product_name</th>\n",
       "      <th>date_ordered</th>\n",
       "      <th>quantity</th>\n",
       "      <th>unit_price</th>\n",
       "      <th>phone_number</th>\n",
       "    </tr>\n",
       "  </thead>\n",
       "  <tbody>\n",
       "    <tr>\n",
       "      <th>0</th>\n",
       "      <td>101</td>\n",
       "      <td>Nabin</td>\n",
       "      <td>Laptop</td>\n",
       "      <td>2018-06-12</td>\n",
       "      <td>2</td>\n",
       "      <td>800.0</td>\n",
       "      <td>9841748595</td>\n",
       "    </tr>\n",
       "    <tr>\n",
       "      <th>1</th>\n",
       "      <td>104</td>\n",
       "      <td>Nancy</td>\n",
       "      <td>T-shirts</td>\n",
       "      <td>2018-07-14</td>\n",
       "      <td>2</td>\n",
       "      <td>800.0</td>\n",
       "      <td>9841748592</td>\n",
       "    </tr>\n",
       "    <tr>\n",
       "      <th>2</th>\n",
       "      <td>106</td>\n",
       "      <td>Danny</td>\n",
       "      <td>Smart TV</td>\n",
       "      <td>2018-08-20</td>\n",
       "      <td>10</td>\n",
       "      <td>300.0</td>\n",
       "      <td>9841748594</td>\n",
       "    </tr>\n",
       "    <tr>\n",
       "      <th>3</th>\n",
       "      <td>103</td>\n",
       "      <td>Stacy</td>\n",
       "      <td>Trousers</td>\n",
       "      <td>2019-12-25</td>\n",
       "      <td>5</td>\n",
       "      <td>50.0</td>\n",
       "      <td>9841748591</td>\n",
       "    </tr>\n",
       "    <tr>\n",
       "      <th>4</th>\n",
       "      <td>105</td>\n",
       "      <td>Maria</td>\n",
       "      <td>Headphones</td>\n",
       "      <td>2019-05-30</td>\n",
       "      <td>6</td>\n",
       "      <td>48.0</td>\n",
       "      <td>9841748593</td>\n",
       "    </tr>\n",
       "    <tr>\n",
       "      <th>5</th>\n",
       "      <td>102</td>\n",
       "      <td>Jobs</td>\n",
       "      <td>Books</td>\n",
       "      <td>2019-02-10</td>\n",
       "      <td>10</td>\n",
       "      <td>12.0</td>\n",
       "      <td>9841748590</td>\n",
       "    </tr>\n",
       "  </tbody>\n",
       "</table>\n",
       "</div>"
      ],
      "text/plain": [
       "   order_id customer_name product_name date_ordered  quantity  unit_price  \\\n",
       "0       101         Nabin       Laptop   2018-06-12         2       800.0   \n",
       "1       104         Nancy     T-shirts   2018-07-14         2       800.0   \n",
       "2       106         Danny     Smart TV   2018-08-20        10       300.0   \n",
       "3       103         Stacy     Trousers   2019-12-25         5        50.0   \n",
       "4       105         Maria   Headphones   2019-05-30         6        48.0   \n",
       "5       102          Jobs        Books   2019-02-10        10        12.0   \n",
       "\n",
       "  phone_number  \n",
       "0   9841748595  \n",
       "1   9841748592  \n",
       "2   9841748594  \n",
       "3   9841748591  \n",
       "4   9841748593  \n",
       "5   9841748590  "
      ]
     },
     "metadata": {},
     "output_type": "display_data"
    }
   ],
   "source": [
    "from_db = []\n",
    "for result in results:\n",
    "    result = list(result)\n",
    "    from_db.append(result)\n",
    "columns = [\"order_id\",\"customer_name\",\"product_name\",\"date_ordered\",\"quantity\",\"unit_price\",\"phone_number\"] \n",
    "df = pd.DataFrame(from_db,columns = columns)\n",
    "display(df)"
   ]
  },
  {
   "cell_type": "code",
   "execution_count": 18,
   "id": "ca06c85e",
   "metadata": {},
   "outputs": [
    {
     "name": "stdout",
     "output_type": "stream",
     "text": [
      "MySQL database connection successfully\n",
      "Query was successful\n"
     ]
    }
   ],
   "source": [
    "#update command\n",
    "update = '''\n",
    "update orders \n",
    "set unit_price = 45\n",
    "where order_id=103\n",
    "'''\n",
    "connection = create_db_connection(\"localhost\",\"root\",pw,db)\n",
    "execute_query(connection,update)"
   ]
  },
  {
   "cell_type": "code",
   "execution_count": 19,
   "id": "6d3d304c",
   "metadata": {},
   "outputs": [
    {
     "name": "stdout",
     "output_type": "stream",
     "text": [
      "MySQL database connection successfully\n",
      "(103, 'Stacy', 'Trousers', datetime.date(2019, 12, 25), 5, 45.0, '9841748591')\n"
     ]
    }
   ],
   "source": [
    "q8 = '''\n",
    "select * from orders where order_id=103;\n",
    "'''\n",
    "connection = create_db_connection(\"localhost\",\"root\",pw,db)\n",
    "results = read_query(connection,q8)\n",
    "for result in results:\n",
    "    print(result)"
   ]
  },
  {
   "cell_type": "code",
   "execution_count": 20,
   "id": "ae97d969",
   "metadata": {},
   "outputs": [
    {
     "name": "stdout",
     "output_type": "stream",
     "text": [
      "MySQL database connection successfully\n",
      "Query was successful\n"
     ]
    }
   ],
   "source": [
    "#Delete command\n",
    "delete_order = '''\n",
    "delete from orders\n",
    "where order_id=105;\n",
    "'''\n",
    "connection = create_db_connection(\"localhost\",\"root\",pw,db)\n",
    "execute_query(connection,delete_order)"
   ]
  },
  {
   "cell_type": "code",
   "execution_count": 21,
   "id": "14e0900b",
   "metadata": {},
   "outputs": [
    {
     "name": "stdout",
     "output_type": "stream",
     "text": [
      "MySQL database connection successfully\n",
      "(101, 'Nabin', 'Laptop', datetime.date(2018, 6, 12), 2, 800.0, '9841748595')\n",
      "(102, 'Jobs', 'Books', datetime.date(2019, 2, 10), 10, 12.0, '9841748590')\n",
      "(103, 'Stacy', 'Trousers', datetime.date(2019, 12, 25), 5, 45.0, '9841748591')\n",
      "(104, 'Nancy', 'T-shirts', datetime.date(2018, 7, 14), 2, 800.0, '9841748592')\n",
      "(106, 'Danny', 'Smart TV', datetime.date(2018, 8, 20), 10, 300.0, '9841748594')\n"
     ]
    }
   ],
   "source": [
    "q9 = '''\n",
    "select * from orders;\n",
    "'''\n",
    "connection = create_db_connection(\"localhost\",\"root\",pw,db)\n",
    "results = read_query(connection,q9)\n",
    "for result in results:\n",
    "    print(result)"
   ]
  },
  {
   "cell_type": "code",
   "execution_count": null,
   "id": "4338b5d8",
   "metadata": {},
   "outputs": [],
   "source": []
  }
 ],
 "metadata": {
  "kernelspec": {
   "display_name": "Python 3 (ipykernel)",
   "language": "python",
   "name": "python3"
  },
  "language_info": {
   "codemirror_mode": {
    "name": "ipython",
    "version": 3
   },
   "file_extension": ".py",
   "mimetype": "text/x-python",
   "name": "python",
   "nbconvert_exporter": "python",
   "pygments_lexer": "ipython3",
   "version": "3.7.7"
  }
 },
 "nbformat": 4,
 "nbformat_minor": 5
}
